{
 "cells": [
  {
   "cell_type": "code",
   "execution_count": 4,
   "metadata": {},
   "outputs": [],
   "source": [
    "import win32com.client as win32\n",
    "\n",
    "def execute_excel_macros(file_path, macro_names):\n",
    "    # Create an instance of Excel application\n",
    "    excel_app = win32.Dispatch('Excel.Application')\n",
    "    \n",
    "    # Make Excel visible (optional)\n",
    "    excel_app.Visible = True\n",
    "    \n",
    "    # Open the Excel file\n",
    "    workbook = excel_app.Workbooks.Open(file_path)\n",
    "    \n",
    "    try:\n",
    "        # Loop through each macro name and execute it\n",
    "        for macro_name in macro_names:\n",
    "            excel_app.Application.Run(macro_name)\n",
    "    except Exception as e:\n",
    "        print(f\"Error occurred while executing macro '{macro_name}': {e}\")\n",
    "    finally:\n",
    "        # Save and close the workbook\n",
    "        workbook.Save()\n",
    "        workbook.Close()\n",
    "        \n",
    "        # Quit Excel application\n",
    "        excel_app.Quit()\n",
    "\n",
    "# Example usage:\n",
    "file_path = r'D:\\Users\\ssrifqah\\Documents\\Python\\CashBOP_Anomaly\\Outlier1\\6. Steps to update fact sheet STATsmart.xlsm'\n",
    "macro_names = ['NewFolderNewExcel']\n",
    "execute_excel_macros(file_path, macro_names)"
   ]
  }
 ],
 "metadata": {
  "kernelspec": {
   "display_name": "Outlier1",
   "language": "python",
   "name": "python3"
  },
  "language_info": {
   "codemirror_mode": {
    "name": "ipython",
    "version": 3
   },
   "file_extension": ".py",
   "mimetype": "text/x-python",
   "name": "python",
   "nbconvert_exporter": "python",
   "pygments_lexer": "ipython3",
   "version": "3.9.10"
  }
 },
 "nbformat": 4,
 "nbformat_minor": 2
}
