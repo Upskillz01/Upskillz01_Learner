{
 "cells": [
  {
   "cell_type": "code",
   "execution_count": 3,
   "metadata": {},
   "outputs": [],
   "source": [
    "import numpy as np\n",
    "import pandas as pd\n",
    "import datetime as dt\n",
    "\n",
    "data=[[dt.datetime(2020,1,1, 10, 13), 2.222, 1, True],\n",
    "\n",
    "[dt.datetime(2020,1,2), np.nan, 2, False],\n",
    "\n",
    "[dt.datetime(2020,1,2), np.inf, 3, True]]\n",
    "\n",
    "df = pd.DataFrame(data=data,\n",
    "\n",
    "columns=[\"Dates\", \"Floats\", \"Integers\",\n",
    "\n",
    "\"Booleans\"])\n",
    "\n",
    "df.index.name=\"index\"\n",
    "\n",
    "df.to_excel(\"written_with_pandas.xlsx\", sheet_name=\"Output\", startrow=1, startcol=1, index=True, header=True, na_rep=\"<NA>\", inf_rep=\"<INF>\")"
   ]
  },
  {
   "cell_type": "code",
   "execution_count": 7,
   "metadata": {},
   "outputs": [],
   "source": [
    "with pd.ExcelWriter(\"written_with_pandas2.xlsx\") as writer:\n",
    "    df.to_excel(writer, sheet_name=\"Sheet1\", startrow=1, startcol=1)\n",
    "\n",
    "    df.to_excel(writer, sheet_name=\"Sheet1\", startrow=10,startcol=1)\n",
    "\n",
    "    df.to_excel(writer, sheet_name=\"Sheet2\")"
   ]
  }
 ],
 "metadata": {
  "kernelspec": {
   "display_name": "training",
   "language": "python",
   "name": "python3"
  },
  "language_info": {
   "codemirror_mode": {
    "name": "ipython",
    "version": 3
   },
   "file_extension": ".py",
   "mimetype": "text/x-python",
   "name": "python",
   "nbconvert_exporter": "python",
   "pygments_lexer": "ipython3",
   "version": "3.9.10"
  }
 },
 "nbformat": 4,
 "nbformat_minor": 2
}
